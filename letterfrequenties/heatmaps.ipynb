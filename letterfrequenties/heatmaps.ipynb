{
 "cells": [
  {
   "cell_type": "code",
   "execution_count": null,
   "metadata": {
    "collapsed": true
   },
   "outputs": [],
   "source": [
    "import matplotlib.pyplot as plt\n",
    "import seaborn as sns\n",
    "import glob, os\n",
    "import numpy as np\n",
    "from const import CHARACTERS, MATRIX_PATH"
   ]
  },
  {
   "cell_type": "code",
   "execution_count": null,
   "outputs": [],
   "source": [
    "def plot_matrix():\n",
    "    matrices = list(map(np.loadtxt, glob.glob(str(MATRIX_PATH / '*.txt'))))\n",
    "    languages = [os.path.basename(path)[:-4] for path in glob.glob(str(MATRIX_PATH / '*.txt'))]\n",
    "    for matrix, lang in zip(matrices, languages):\n",
    "        ax = sns.heatmap(matrix, center=0, xticklabels = CHARACTERS, yticklabels=CHARACTERS)\n",
    "        ax.set_xticklabels(ax.get_xticklabels(), rotation=30)\n",
    "        ax.set_yticklabels(ax.get_yticklabels(), rotation=100)\n",
    "        plt.title(f\"{lang.upper()} MATRIX\")\n",
    "        plt.xlabel(\"Second character\")\n",
    "        plt.ylabel(\"First characters\")\n",
    "        plt.savefig(f\"images/{lang}-matrix.png\")\n",
    "        plt.show()"
   ],
   "metadata": {
    "collapsed": false,
    "pycharm": {
     "name": "#%%\n"
    }
   }
  },
  {
   "cell_type": "code",
   "execution_count": null,
   "outputs": [],
   "source": [
    "plot_matrix()\n"
   ],
   "metadata": {
    "collapsed": false,
    "pycharm": {
     "name": "#%%\n"
    }
   }
  },
  {
   "cell_type": "code",
   "execution_count": null,
   "outputs": [],
   "source": [],
   "metadata": {
    "collapsed": false,
    "pycharm": {
     "name": "#%%\n"
    }
   }
  }
 ],
 "metadata": {
  "kernelspec": {
   "display_name": "Python 3",
   "language": "python",
   "name": "python3"
  },
  "language_info": {
   "codemirror_mode": {
    "name": "ipython",
    "version": 2
   },
   "file_extension": ".py",
   "mimetype": "text/x-python",
   "name": "python",
   "nbconvert_exporter": "python",
   "pygments_lexer": "ipython2",
   "version": "2.7.6"
  }
 },
 "nbformat": 4,
 "nbformat_minor": 0
}